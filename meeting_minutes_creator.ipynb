{
  "cells": [
    {
      "cell_type": "markdown",
      "metadata": {
        "id": "view-in-github",
        "colab_type": "text"
      },
      "source": [
        "<a href=\"https://colab.research.google.com/github/siyandaV-0/llm-playground/blob/main/meeting_minutes_creator.ipynb\" target=\"_parent\"><img src=\"https://colab.research.google.com/assets/colab-badge.svg\" alt=\"Open In Colab\"/></a>"
      ]
    },
    {
      "cell_type": "markdown",
      "id": "61f56afc-bc15-46a4-8eb1-d940c332cf52",
      "metadata": {
        "id": "61f56afc-bc15-46a4-8eb1-d940c332cf52"
      },
      "source": [
        "# Meeting minutes creator\n",
        "\n",
        "In this colab, we make a meeting minutes program.\n",
        "\n",
        "It includes useful code to connect your Google Drive to your colab.\n",
        "\n",
        "Upload your own audio to make this work!!\n",
        "\n",
        "https://colab.research.google.com/drive/1KSMxOCprsl1QRpt_Rq0UqCAyMtPqDQYx?usp=sharing\n",
        "\n",
        "This should run nicely on a low-cost or free T4 box."
      ]
    },
    {
      "cell_type": "code",
      "execution_count": 9,
      "id": "e9289ba7-200c-43a9-b67a-c5ce826c9537",
      "metadata": {
        "id": "e9289ba7-200c-43a9-b67a-c5ce826c9537"
      },
      "outputs": [],
      "source": [
        "!pip install -q requests torch bitsandbytes transformers sentencepiece accelerate openai httpx==0.27.2"
      ]
    },
    {
      "cell_type": "code",
      "source": [
        "# imports\n",
        "\n",
        "import os\n",
        "import requests\n",
        "from IPython.display import Markdown, display, update_display\n",
        "from openai import OpenAI\n",
        "from google.colab import drive\n",
        "from huggingface_hub import login\n",
        "from google.colab import userdata\n",
        "from transformers import AutoTokenizer, AutoModelForCausalLM, TextStreamer, BitsAndBytesConfig\n",
        "import torch"
      ],
      "metadata": {
        "id": "BdB4pd34PwUb"
      },
      "id": "BdB4pd34PwUb",
      "execution_count": 10,
      "outputs": []
    },
    {
      "cell_type": "code",
      "source": [
        "# Constants\n",
        "\n",
        "AUDIO_MODEL = \"whisper-1\"\n",
        "LLAMA = \"meta-llama/Meta-Llama-3.1-8B-Instruct\""
      ],
      "metadata": {
        "id": "2mxtq7v5P2y0"
      },
      "id": "2mxtq7v5P2y0",
      "execution_count": 11,
      "outputs": []
    },
    {
      "cell_type": "code",
      "source": [
        "# New capability - connect this Colab to my Google Drive\n",
        "\n",
        "drive.mount(\"/content/drive\")\n",
        "audio_filename = \"/content/drive/MyDrive/Siyanda AI Research/Gen AI Research/LLMS/LLM Engineering: Master AI & Larg Language Models(LLMs)/llm_engineering/week3/videoplayback.mp4\""
      ],
      "metadata": {
        "colab": {
          "base_uri": "https://localhost:8080/"
        },
        "id": "W6CKNbgtQFd9",
        "outputId": "8ce2c684-e24b-4940-af36-34c87af5db4b"
      },
      "id": "W6CKNbgtQFd9",
      "execution_count": 12,
      "outputs": [
        {
          "output_type": "stream",
          "name": "stdout",
          "text": [
            "Drive already mounted at /content/drive; to attempt to forcibly remount, call drive.mount(\"/content/drive\", force_remount=True).\n"
          ]
        }
      ]
    },
    {
      "cell_type": "markdown",
      "source": [
        "# Audio File\n",
        "\n",
        "You can either use the same file as me, the extract from Denver city council minutes, or you can try your own..\n",
        "\n",
        "If you want to use the same as me, then please download my extract here, and put this on your Google Drive:  \n",
        "https://drive.google.com/file/d/1N_kpSojRR5RYzupz6nqM8hMSoEF_R7pU/view?usp=sharing"
      ],
      "metadata": {
        "id": "tCQ37iyOXEDS"
      },
      "id": "tCQ37iyOXEDS"
    },
    {
      "cell_type": "code",
      "source": [
        "# Sign in to HuggingFace Hub\n",
        "\n",
        "hf_token = userdata.get('HF_TOKEN')\n",
        "login(hf_token, add_to_git_credential=True)"
      ],
      "metadata": {
        "id": "P2GVf7kQXQVB"
      },
      "id": "P2GVf7kQXQVB",
      "execution_count": 13,
      "outputs": []
    },
    {
      "cell_type": "code",
      "source": [
        "# Sign in to OpenAI using Secrets in Colab\n",
        "\n",
        "openai_api_key = userdata.get('OPENAI_API_KEY')\n",
        "openai = OpenAI(api_key=openai_api_key)"
      ],
      "metadata": {
        "id": "O7OK9IxYoYrH"
      },
      "id": "O7OK9IxYoYrH",
      "execution_count": 15,
      "outputs": []
    },
    {
      "cell_type": "code",
      "source": [
        "# Use the Whisper OpenAI model to convert the Audio to Text\n",
        "\n",
        "audio_file = open(audio_filename, \"rb\")\n",
        "transcription = openai.audio.transcriptions.create(model=AUDIO_MODEL, file=audio_file, response_format=\"text\")\n",
        "print(transcription)"
      ],
      "metadata": {
        "colab": {
          "base_uri": "https://localhost:8080/"
        },
        "id": "pPLccFOznCWi",
        "outputId": "fa4c56cb-fa39-4c9f-aadf-3b97e07c5781"
      },
      "id": "pPLccFOznCWi",
      "execution_count": 16,
      "outputs": [
        {
          "output_type": "stream",
          "name": "stdout",
          "text": [
            "I shall now call upon the President to address the Joint Secretary. Speaker of the National Assembly, Ms. Thandi Mudise, Chairperson of the National Council of Provinces. On the point of order, Speaker. On the point of order, Speaker. What's the point of order? Can the President please sit down? I'm following the rules, Speaker. What's the point of order? Can we follow the rules? What's the point of order? Can we follow the rules? According to Rule 14C, read alongside 14S. If you read them now, you will realize that the President must sit down before I raise the point of order. Please sit down, President. We're going to help you run this Parliament. Sit down, President. Follow the rules. We're going to help you. You want to follow the rules? Follow the rules and sit down. Can you find out what is the point of order? Well, the point of order, Speaker, is that we cannot sit here in this Parliament with millions of South Africans watching us when they know that they are in darkness because of one man who has made sure that our state-owned entities are in a state of collapse. Today, Westcom cannot keep light in our houses. Today, we cannot fly to Deben because there is a minister who is making sure that SAA is dysfunctional. Today, we sit here with a minister that is working for white monopoly genital making sure that the state-owned entities go to his friends. We call for an adjournment. The President must go outside and make sure that he makes an announcement to the nation that Pravin Godan is no longer a minister of this country. We cannot sit with him. We want to sit with Pravin Godan, not here. Pravin Godan must go. Pravin Godan must go. Please. That's not the point of order. Point of order. With the greatest respect, Madam Speaker, the Constitution is also on our side. Because we are members sworn to the Constitution, we also have a right to partake in these proceedings. I just want to really bring to your attention Can I respond to you on that point of order? I will be done in a moment, Speaker. I'll be done. We can't gather like things are normal here when things are abnormal. Pravin Godan, Mr. Selurama Posa, misled you. He misled you together with another man and you fired the other man and not Pravin Godan. Take your seat. Please fire Pravin Godan now so that we can go. Take your seat. No honourable members. EFF, if they want to engage you, let's go outside and engage outside. Rekan Magitaga, let's go and engage outside. Let's go, let's go, let's go. Order. Let's go, let's go. Honourable members. Honourable members. Take your seats. Honourable members. Take your seats. No. Honourable members. Take your seats. Honourable members. Honourable members. Honourable members. Take your seats. You all have a minute to take your seat or march out. Take your seats. Honourable Shibambu, take your seat. Honourable members. Honourable members. Honourable members. Honourable members, you clearly do not have any interest in the business of this house today. You are delaying us. You are refusing us to start with the business of the day. Honourable members. There is, there is, there is an input on the floor. Any member who feels they do not want to participate in the proceedings of this joint sitting today, you are free to walk out and allow us and the rest of this country to enjoy the state of the nation. Thank you. If you choose to sit and do not leave, you will, you will sit and allow us to continue with the decorum of this house so that we can get on with the business of the day. Any other member who will stand up in this house and disrupt, please leave in peace. Any member, you are disrupting. No. Honourable Shibambu, what do you understand to be a disruption? A disruption is when you do not use the rules to make interruptions. An interruption is allowed in terms of the rules that are contained in this book which guides all of us here now. There are two issues which you cannot overlook, Speaker. One, you have got a semi-literate person who can't think and say, we must go and fight outside. No, I'm not entertaining that. That is one. And number two, if we cannot find each other here in terms of this, which I propose because we do not have a chief who is going to miss the day, the whips must go outside to come with a solution. So that we can guide these whips on what must happen. That is a concrete proposal so that we come to guide these house as whips of what should happen. That is the concrete proposal. Honourable Shibambu, you sit and you let us proceed with the business of today. No, Honourable Malemba, we have had enough. No, no, on a point of order. You keep on saying members of Parliament are disrupting Parliament. When we stand up and speak through you, you cannot call that a disruption. You cannot call our inputs here a disruption. We've got a right to be here. We've got a right to speak here. And that's what we are getting paid for. And we can't, when we execute our responsibility, say we don't have time. We've got all the time. We are getting paid to be here. The chief whip has made a progressive proposal that lets us adjourn for five minutes so that the chief whips can talk outside. Since there was no chief whip forum. Honourable Malemba, please take your seat. No. Please take your seat. There was no chief whips forum. Honourable Malemba, take your seat. There is nothing we can do. Honourable Malemba, take your seat. Which rules are you quoting? I am saying please take your seat. But guide us through the rules. If you do not wish to take your seat, sir, please leave this house. Honourable Mkalipi, I am not taking any further points of orders. You are simply retarding the progress of this house tonight. Honourable Godri, I am not taking your point of order. You are simply retarding our progress. Take your seat. Take your seat. If you do not wish to take your seat, I am going to ask that you be held out of this house. Please, just before that. No. Take your seat. No, take your seat. No, Honourable Malemba. You cannot come here and take away the rights of the rest of this house. This one has taken the rights of our people to have life and to fight to the death. I will not have dialogue with you. Take your seat. But, Madam Speaker. Take your seat. Take your seat. It's not speedless. Take your seat. That Honourable Malemba, no member has any right to threaten any member. Neither does any member have the right to take away and to disadvantage any other member in any other fashion. So, you are not angels because you infringe on the rights of all the other members in this house to proceed. And that is why I am saying I am not taking any point. I would like to make a plea one more time. That we should allow the President to proceed with his State of the Nation address. Honourable President, please proceed. Honourable Chairperson of the NCOP, on a point of order. I have not recognised you. Honourable Malemba. Honourable Malemba. Honourable Malemba, I have not recognised you, so please sit down. Please proceed, Honourable President. Speaker. Speaker. Can you please recognise us? I want us to work according to rules here. Honourable Malemba. Honourable Malemba, we have not been recognised. Please sit down. Please sit down. Please sit. Please sit. Honourable President. No, Brahambi, you are making a mistake. You are making a mistake. You are making a mistake. Recognise me. I want to speak according to the rules. Honourable Speaker. You ought to say to us, according to which rule are you no longer going to take hands on point of order? Number one. Number two. There is no one who is going to be treated as a party here. There is no party here. They are members of Parliament who shall be recognised as individual members of Parliament. So there is no party. So please, we and there is no majority and there is no minority. Honourable Malemba. If you are going to go with that narrative of minority, minority will know us. Honourable Malemba. Honourable President. Honourable President. We are now proceeding, Honourable Members, with the State of the Nation Address. Speaker of the National Assembly. Mr. Andi Mudise. The Chairperson of the National Council of Provinces. Mr. Amos Masondo. Speaker of the National Assembly. A wnaiff y Prif Weinidog ddatganiad am y peth y mae'r Prif Weinidog wedi'i wneud? Y Llywodraeth. Rydyn ni'n mynd i'r cyfrifiadau o'r ysgol hwn. Bydd y golygau'n mynd i'r ysgol hwn. Mae'r ysgol hwn yn cael eu cyfrifiadu. Y Llywodraeth! Y Llywodraeth! Y Llywodraeth! Y Llywodraeth! Y Llywodraeth! Y Llywodraeth! Y Llywodraeth! Y Llywodraeth!\n",
            "\n"
          ]
        }
      ]
    },
    {
      "cell_type": "code",
      "source": [
        "system_message = \"You are an assistant that produces minutes of meetings from transcripts, with summary, key discussion points, takeaways and action items with owners, in markdown.\"\n",
        "user_prompt = f\"Below is an extract transcript of a Speech given by Julius Malema in the 2020 SONA debat. Please write minutes in markdown, including a summary with attendees, location and date; discussion points; takeaways; and action items with owners.\\n{transcription}\"\n",
        "\n",
        "messages = [\n",
        "    {\"role\": \"system\", \"content\": system_message},\n",
        "    {\"role\": \"user\", \"content\": user_prompt}\n",
        "  ]"
      ],
      "metadata": {
        "id": "dUtqQupvoPiD"
      },
      "id": "dUtqQupvoPiD",
      "execution_count": 20,
      "outputs": []
    },
    {
      "cell_type": "code",
      "source": [
        "quant_config = BitsAndBytesConfig(\n",
        "    load_in_4bit=True,\n",
        "    bnb_4bit_use_double_quant=True,\n",
        "    bnb_4bit_compute_dtype=torch.bfloat16,\n",
        "    bnb_4bit_quant_type=\"nf4\"\n",
        ")"
      ],
      "metadata": {
        "id": "mMt1advap6p-"
      },
      "id": "mMt1advap6p-",
      "execution_count": 21,
      "outputs": []
    },
    {
      "cell_type": "code",
      "source": [
        "tokenizer = AutoTokenizer.from_pretrained(LLAMA)\n",
        "tokenizer.pad_token = tokenizer.eos_token\n",
        "inputs = tokenizer.apply_chat_template(messages, return_tensors=\"pt\").to(\"cuda\")\n",
        "streamer = TextStreamer(tokenizer)\n",
        "model = AutoModelForCausalLM.from_pretrained(LLAMA, device_map=\"auto\", quantization_config=quant_config)\n",
        "outputs = model.generate(inputs, max_new_tokens=2000, streamer=streamer)"
      ],
      "metadata": {
        "colab": {
          "base_uri": "https://localhost:8080/",
          "height": 1000,
          "referenced_widgets": [
            "edfdd6ad35e541d0bbc7301c2a89de81",
            "af94c3a0b2df42dfafa0bec39ec3ae39",
            "b3fbc17d24f84d33929d1188bbc367a2",
            "2984d4355e154214bb59bc50af50f686",
            "b4afff84d590416f949b4fc316c41916",
            "c4bd9de920aa4d8997deadf67ae1cc4b",
            "3afb7315c7fa4f4c8092d6a8caf7452b",
            "22b63ec714474c979f19797289cbd6f8",
            "d3e7eba0e4a7466a9d1e012a8abc5f08",
            "d6a28cc4b4804302aadc2a2b6c1b288f",
            "3f0d8ef26ff64de5a11ac0768ec6acb4"
          ]
        },
        "id": "9EsTisz5p96Q",
        "outputId": "d222f9f2-717f-4c96-8d22-a5c0490ff623"
      },
      "id": "9EsTisz5p96Q",
      "execution_count": 22,
      "outputs": [
        {
          "output_type": "display_data",
          "data": {
            "text/plain": [
              "Loading checkpoint shards:   0%|          | 0/4 [00:00<?, ?it/s]"
            ],
            "application/vnd.jupyter.widget-view+json": {
              "version_major": 2,
              "version_minor": 0,
              "model_id": "edfdd6ad35e541d0bbc7301c2a89de81"
            }
          },
          "metadata": {}
        },
        {
          "output_type": "stream",
          "name": "stderr",
          "text": [
            "The attention mask and the pad token id were not set. As a consequence, you may observe unexpected behavior. Please pass your input's `attention_mask` to obtain reliable results.\n",
            "Setting `pad_token_id` to `eos_token_id`:None for open-end generation.\n"
          ]
        },
        {
          "output_type": "stream",
          "name": "stdout",
          "text": [
            "<|begin_of_text|><|start_header_id|>system<|end_header_id|>\n",
            "\n",
            "Cutting Knowledge Date: December 2023\n",
            "Today Date: 26 Jul 2024\n",
            "\n",
            "You are an assistant that produces minutes of meetings from transcripts, with summary, key discussion points, takeaways and action items with owners, in markdown.<|eot_id|><|start_header_id|>user<|end_header_id|>\n",
            "\n",
            "Below is an extract transcript of a Speech given by Julius Malema in the 2020 SONA debat. Please write minutes in markdown, including a summary with attendees, location and date; discussion points; takeaways; and action items with owners.\n",
            "I shall now call upon the President to address the Joint Secretary. Speaker of the National Assembly, Ms. Thandi Mudise, Chairperson of the National Council of Provinces. On the point of order, Speaker. On the point of order, Speaker. What's the point of order? Can the President please sit down? I'm following the rules, Speaker. What's the point of order? Can we follow the rules? What's the point of order? Can we follow the rules? According to Rule 14C, read alongside 14S. If you read them now, you will realize that the President must sit down before I raise the point of order. Please sit down, President. We're going to help you run this Parliament. Sit down, President. Follow the rules. We're going to help you. You want to follow the rules? Follow the rules and sit down. Can you find out what is the point of order? Well, the point of order, Speaker, is that we cannot sit here in this Parliament with millions of South Africans watching us when they know that they are in darkness because of one man who has made sure that our state-owned entities are in a state of collapse. Today, Westcom cannot keep light in our houses. Today, we cannot fly to Deben because there is a minister who is making sure that SAA is dysfunctional. Today, we sit here with a minister that is working for white monopoly genital making sure that the state-owned entities go to his friends. We call for an adjournment. The President must go outside and make sure that he makes an announcement to the nation that Pravin Godan is no longer a minister of this country. We cannot sit with him. We want to sit with Pravin Godan, not here. Pravin Godan must go. Pravin Godan must go. Please. That's not the point of order. Point of order. With the greatest respect, Madam Speaker, the Constitution is also on our side. Because we are members sworn to the Constitution, we also have a right to partake in these proceedings. I just want to really bring to your attention Can I respond to you on that point of order? I will be done in a moment, Speaker. I'll be done. We can't gather like things are normal here when things are abnormal. Pravin Godan, Mr. Selurama Posa, misled you. He misled you together with another man and you fired the other man and not Pravin Godan. Take your seat. Please fire Pravin Godan now so that we can go. Take your seat. No honourable members. EFF, if they want to engage you, let's go outside and engage outside. Rekan Magitaga, let's go and engage outside. Let's go, let's go, let's go. Order. Let's go, let's go. Honourable members. Honourable members. Take your seats. Honourable members. Take your seats. No. Honourable members. Take your seats. Honourable members. Honourable members. Honourable members. Take your seats. You all have a minute to take your seat or march out. Take your seats. Honourable Shibambu, take your seat. Honourable members. Honourable members. Honourable members. Honourable members, you clearly do not have any interest in the business of this house today. You are delaying us. You are refusing us to start with the business of the day. Honourable members. There is, there is, there is an input on the floor. Any member who feels they do not want to participate in the proceedings of this joint sitting today, you are free to walk out and allow us and the rest of this country to enjoy the state of the nation. Thank you. If you choose to sit and do not leave, you will, you will sit and allow us to continue with the decorum of this house so that we can get on with the business of the day. Any other member who will stand up in this house and disrupt, please leave in peace. Any member, you are disrupting. No. Honourable Shibambu, what do you understand to be a disruption? A disruption is when you do not use the rules to make interruptions. An interruption is allowed in terms of the rules that are contained in this book which guides all of us here now. There are two issues which you cannot overlook, Speaker. One, you have got a semi-literate person who can't think and say, we must go and fight outside. No, I'm not entertaining that. That is one. And number two, if we cannot find each other here in terms of this, which I propose because we do not have a chief who is going to miss the day, the whips must go outside to come with a solution. So that we can guide these whips on what must happen. That is a concrete proposal so that we come to guide these house as whips of what should happen. That is the concrete proposal. Honourable Shibambu, you sit and you let us proceed with the business of today. No, Honourable Malemba, we have had enough. No, no, on a point of order. You keep on saying members of Parliament are disrupting Parliament. When we stand up and speak through you, you cannot call that a disruption. You cannot call our inputs here a disruption. We've got a right to be here. We've got a right to speak here. And that's what we are getting paid for. And we can't, when we execute our responsibility, say we don't have time. We've got all the time. We are getting paid to be here. The chief whip has made a progressive proposal that lets us adjourn for five minutes so that the chief whips can talk outside. Since there was no chief whip forum. Honourable Malemba, please take your seat. No. Please take your seat. There was no chief whips forum. Honourable Malemba, take your seat. There is nothing we can do. Honourable Malemba, take your seat. Which rules are you quoting? I am saying please take your seat. But guide us through the rules. If you do not wish to take your seat, sir, please leave this house. Honourable Mkalipi, I am not taking any further points of orders. You are simply retarding the progress of this house tonight. Honourable Godri, I am not taking your point of order. You are simply retarding our progress. Take your seat. Take your seat. If you do not wish to take your seat, I am going to ask that you be held out of this house. Please, just before that. No. Take your seat. No, take your seat. No, Honourable Malemba. You cannot come here and take away the rights of the rest of this house. This one has taken the rights of our people to have life and to fight to the death. I will not have dialogue with you. Take your seat. But, Madam Speaker. Take your seat. Take your seat. It's not speedless. Take your seat. That Honourable Malemba, no member has any right to threaten any member. Neither does any member have the right to take away and to disadvantage any other member in any other fashion. So, you are not angels because you infringe on the rights of all the other members in this house to proceed. And that is why I am saying I am not taking any point. I would like to make a plea one more time. That we should allow the President to proceed with his State of the Nation address. Honourable President, please proceed. Honourable Chairperson of the NCOP, on a point of order. I have not recognised you. Honourable Malemba. Honourable Malemba. Honourable Malemba, I have not recognised you, so please sit down. Please proceed, Honourable President. Speaker. Speaker. Can you please recognise us? I want us to work according to rules here. Honourable Malemba. Honourable Malemba, we have not been recognised. Please sit down. Please sit down. Please sit. Please sit. Honourable President. No, Brahambi, you are making a mistake. You are making a mistake. You are making a mistake. Recognise me. I want to speak according to the rules. Honourable Speaker. You ought to say to us, according to which rule are you no longer going to take hands on point of order? Number one. Number two. There is no one who is going to be treated as a party here. There is no party here. They are members of Parliament who shall be recognised as individual members of Parliament. So there is no party. So please, we and there is no majority and there is no minority. Honourable Malemba. If you are going to go with that narrative of minority, minority will know us. Honourable Malemba. Honourable President. Honourable President. We are now proceeding, Honourable Members, with the State of the Nation Address. Speaker of the National Assembly. Mr. Andi Mudise. The Chairperson of the National Council of Provinces. Mr. Amos Masondo. Speaker of the National Assembly. A wnaiff y Prif Weinidog ddatganiad am y peth y mae'r Prif Weinidog wedi'i wneud? Y Llywodraeth. Rydyn ni'n mynd i'r cyfrifiadau o'r ysgol hwn. Bydd y golygau'n mynd i'r ysgol hwn. Mae'r ysgol hwn yn cael eu cyfrifiadu. Y Llywodraeth! Y Llywodraeth! Y Llywodraeth! Y Llywodraeth! Y Llywodraeth! Y Llywodraeth! Y Llywodraeth! Y Llywodraeth!<|eot_id|><|start_header_id|>assistant<|end_header_id|>\n",
            "\n",
            "**Meeting Minutes**\n",
            "====================\n",
            "\n",
            "**Attendees:**\n",
            "- Julius Malema (EFF Member of Parliament)\n",
            "- Thandi Mudise (Speaker of the National Assembly)\n",
            "- Amos Masondo (Chairperson of the National Council of Provinces)\n",
            "- Other Members of Parliament\n",
            "\n",
            "**Location:** Parliament of South Africa\n",
            "**Date:** 2020\n",
            "\n",
            "**Summary:**\n",
            "The meeting was a debate on the State of the Nation Address (SONA) in the South African Parliament. Julius Malema, a member of the Economic Freedom Fighters (EFF), led a protest against the President, calling for the removal of Pravin Gordhan as a minister. The debate turned into a dispute between Malema and the Speaker of the National Assembly, with Malema accusing the Speaker of not following the rules and the Speaker asking Malema to take his seat.\n",
            "\n",
            "**Discussion Points:**\n",
            "\n",
            "* Julius Malema's protest against the President and the Speaker\n",
            "* Malema's call for the removal of Pravin Gordhan as a minister\n",
            "* The Speaker's attempts to maintain order and follow the rules\n",
            "* Malema's accusations against the Speaker of not recognizing him and not following the rules\n",
            "* The debate turned into a dispute between Malema and the Speaker\n",
            "\n",
            "**Takeaways:**\n",
            "\n",
            "* The debate on the SONA was disrupted by a protest led by Julius Malema\n",
            "* Malema's protest was against the President and the Speaker, and he called for the removal of Pravin Gordhan as a minister\n",
            "* The Speaker attempted to maintain order and follow the rules, but the debate turned into a dispute between Malema and the Speaker\n",
            "* Malema accused the Speaker of not recognizing him and not following the rules\n",
            "\n",
            "**Action Items:**\n",
            "\n",
            "* **Owner:** Speaker of the National Assembly\n",
            "* **Action:** Recognize Julius Malema and other members of Parliament according to the rules\n",
            "* **Status:** Not completed\n",
            "* **Owner:** Julius Malema\n",
            "* **Action:** Refrain from disrupting the debate and follow the rules\n",
            "* **Status:** Not completed\n",
            "* **Owner:** Chief Whips\n",
            "* **Action:** Meet outside to discuss and find a solution to the dispute\n",
            "* **Status:** Not completed\n",
            "\n",
            "**Next Steps:**\n",
            "The debate on the SONA was eventually allowed to proceed, but the dispute between Julius Malema and the Speaker remained unresolved. The Chief Whips were asked to meet outside to discuss and find a solution to the dispute.<|eot_id|>\n"
          ]
        }
      ]
    },
    {
      "cell_type": "code",
      "source": [
        "response = tokenizer.decode(outputs[0])"
      ],
      "metadata": {
        "id": "BPzOW3_tqAui"
      },
      "id": "BPzOW3_tqAui",
      "execution_count": 23,
      "outputs": []
    },
    {
      "cell_type": "code",
      "source": [
        "display(Markdown(response))"
      ],
      "metadata": {
        "colab": {
          "base_uri": "https://localhost:8080/",
          "height": 1000
        },
        "id": "ilhijJzBqGyq",
        "outputId": "81a98bef-812c-4f0e-b122-011d6c5cf7de"
      },
      "id": "ilhijJzBqGyq",
      "execution_count": 24,
      "outputs": [
        {
          "output_type": "display_data",
          "data": {
            "text/plain": [
              "<IPython.core.display.Markdown object>"
            ],
            "text/markdown": "<|begin_of_text|><|start_header_id|>system<|end_header_id|>\n\nCutting Knowledge Date: December 2023\nToday Date: 26 Jul 2024\n\nYou are an assistant that produces minutes of meetings from transcripts, with summary, key discussion points, takeaways and action items with owners, in markdown.<|eot_id|><|start_header_id|>user<|end_header_id|>\n\nBelow is an extract transcript of a Speech given by Julius Malema in the 2020 SONA debat. Please write minutes in markdown, including a summary with attendees, location and date; discussion points; takeaways; and action items with owners.\nI shall now call upon the President to address the Joint Secretary. Speaker of the National Assembly, Ms. Thandi Mudise, Chairperson of the National Council of Provinces. On the point of order, Speaker. On the point of order, Speaker. What's the point of order? Can the President please sit down? I'm following the rules, Speaker. What's the point of order? Can we follow the rules? What's the point of order? Can we follow the rules? According to Rule 14C, read alongside 14S. If you read them now, you will realize that the President must sit down before I raise the point of order. Please sit down, President. We're going to help you run this Parliament. Sit down, President. Follow the rules. We're going to help you. You want to follow the rules? Follow the rules and sit down. Can you find out what is the point of order? Well, the point of order, Speaker, is that we cannot sit here in this Parliament with millions of South Africans watching us when they know that they are in darkness because of one man who has made sure that our state-owned entities are in a state of collapse. Today, Westcom cannot keep light in our houses. Today, we cannot fly to Deben because there is a minister who is making sure that SAA is dysfunctional. Today, we sit here with a minister that is working for white monopoly genital making sure that the state-owned entities go to his friends. We call for an adjournment. The President must go outside and make sure that he makes an announcement to the nation that Pravin Godan is no longer a minister of this country. We cannot sit with him. We want to sit with Pravin Godan, not here. Pravin Godan must go. Pravin Godan must go. Please. That's not the point of order. Point of order. With the greatest respect, Madam Speaker, the Constitution is also on our side. Because we are members sworn to the Constitution, we also have a right to partake in these proceedings. I just want to really bring to your attention Can I respond to you on that point of order? I will be done in a moment, Speaker. I'll be done. We can't gather like things are normal here when things are abnormal. Pravin Godan, Mr. Selurama Posa, misled you. He misled you together with another man and you fired the other man and not Pravin Godan. Take your seat. Please fire Pravin Godan now so that we can go. Take your seat. No honourable members. EFF, if they want to engage you, let's go outside and engage outside. Rekan Magitaga, let's go and engage outside. Let's go, let's go, let's go. Order. Let's go, let's go. Honourable members. Honourable members. Take your seats. Honourable members. Take your seats. No. Honourable members. Take your seats. Honourable members. Honourable members. Honourable members. Take your seats. You all have a minute to take your seat or march out. Take your seats. Honourable Shibambu, take your seat. Honourable members. Honourable members. Honourable members. Honourable members, you clearly do not have any interest in the business of this house today. You are delaying us. You are refusing us to start with the business of the day. Honourable members. There is, there is, there is an input on the floor. Any member who feels they do not want to participate in the proceedings of this joint sitting today, you are free to walk out and allow us and the rest of this country to enjoy the state of the nation. Thank you. If you choose to sit and do not leave, you will, you will sit and allow us to continue with the decorum of this house so that we can get on with the business of the day. Any other member who will stand up in this house and disrupt, please leave in peace. Any member, you are disrupting. No. Honourable Shibambu, what do you understand to be a disruption? A disruption is when you do not use the rules to make interruptions. An interruption is allowed in terms of the rules that are contained in this book which guides all of us here now. There are two issues which you cannot overlook, Speaker. One, you have got a semi-literate person who can't think and say, we must go and fight outside. No, I'm not entertaining that. That is one. And number two, if we cannot find each other here in terms of this, which I propose because we do not have a chief who is going to miss the day, the whips must go outside to come with a solution. So that we can guide these whips on what must happen. That is a concrete proposal so that we come to guide these house as whips of what should happen. That is the concrete proposal. Honourable Shibambu, you sit and you let us proceed with the business of today. No, Honourable Malemba, we have had enough. No, no, on a point of order. You keep on saying members of Parliament are disrupting Parliament. When we stand up and speak through you, you cannot call that a disruption. You cannot call our inputs here a disruption. We've got a right to be here. We've got a right to speak here. And that's what we are getting paid for. And we can't, when we execute our responsibility, say we don't have time. We've got all the time. We are getting paid to be here. The chief whip has made a progressive proposal that lets us adjourn for five minutes so that the chief whips can talk outside. Since there was no chief whip forum. Honourable Malemba, please take your seat. No. Please take your seat. There was no chief whips forum. Honourable Malemba, take your seat. There is nothing we can do. Honourable Malemba, take your seat. Which rules are you quoting? I am saying please take your seat. But guide us through the rules. If you do not wish to take your seat, sir, please leave this house. Honourable Mkalipi, I am not taking any further points of orders. You are simply retarding the progress of this house tonight. Honourable Godri, I am not taking your point of order. You are simply retarding our progress. Take your seat. Take your seat. If you do not wish to take your seat, I am going to ask that you be held out of this house. Please, just before that. No. Take your seat. No, take your seat. No, Honourable Malemba. You cannot come here and take away the rights of the rest of this house. This one has taken the rights of our people to have life and to fight to the death. I will not have dialogue with you. Take your seat. But, Madam Speaker. Take your seat. Take your seat. It's not speedless. Take your seat. That Honourable Malemba, no member has any right to threaten any member. Neither does any member have the right to take away and to disadvantage any other member in any other fashion. So, you are not angels because you infringe on the rights of all the other members in this house to proceed. And that is why I am saying I am not taking any point. I would like to make a plea one more time. That we should allow the President to proceed with his State of the Nation address. Honourable President, please proceed. Honourable Chairperson of the NCOP, on a point of order. I have not recognised you. Honourable Malemba. Honourable Malemba. Honourable Malemba, I have not recognised you, so please sit down. Please proceed, Honourable President. Speaker. Speaker. Can you please recognise us? I want us to work according to rules here. Honourable Malemba. Honourable Malemba, we have not been recognised. Please sit down. Please sit down. Please sit. Please sit. Honourable President. No, Brahambi, you are making a mistake. You are making a mistake. You are making a mistake. Recognise me. I want to speak according to the rules. Honourable Speaker. You ought to say to us, according to which rule are you no longer going to take hands on point of order? Number one. Number two. There is no one who is going to be treated as a party here. There is no party here. They are members of Parliament who shall be recognised as individual members of Parliament. So there is no party. So please, we and there is no majority and there is no minority. Honourable Malemba. If you are going to go with that narrative of minority, minority will know us. Honourable Malemba. Honourable President. Honourable President. We are now proceeding, Honourable Members, with the State of the Nation Address. Speaker of the National Assembly. Mr. Andi Mudise. The Chairperson of the National Council of Provinces. Mr. Amos Masondo. Speaker of the National Assembly. A wnaiff y Prif Weinidog ddatganiad am y peth y mae'r Prif Weinidog wedi'i wneud? Y Llywodraeth. Rydyn ni'n mynd i'r cyfrifiadau o'r ysgol hwn. Bydd y golygau'n mynd i'r ysgol hwn. Mae'r ysgol hwn yn cael eu cyfrifiadu. Y Llywodraeth! Y Llywodraeth! Y Llywodraeth! Y Llywodraeth! Y Llywodraeth! Y Llywodraeth! Y Llywodraeth! Y Llywodraeth!<|eot_id|><|start_header_id|>assistant<|end_header_id|>\n\n**Meeting Minutes**\n====================\n\n**Attendees:**\n- Julius Malema (EFF Member of Parliament)\n- Thandi Mudise (Speaker of the National Assembly)\n- Amos Masondo (Chairperson of the National Council of Provinces)\n- Other Members of Parliament\n\n**Location:** Parliament of South Africa\n**Date:** 2020\n\n**Summary:**\nThe meeting was a debate on the State of the Nation Address (SONA) in the South African Parliament. Julius Malema, a member of the Economic Freedom Fighters (EFF), led a protest against the President, calling for the removal of Pravin Gordhan as a minister. The debate turned into a dispute between Malema and the Speaker of the National Assembly, with Malema accusing the Speaker of not following the rules and the Speaker asking Malema to take his seat.\n\n**Discussion Points:**\n\n* Julius Malema's protest against the President and the Speaker\n* Malema's call for the removal of Pravin Gordhan as a minister\n* The Speaker's attempts to maintain order and follow the rules\n* Malema's accusations against the Speaker of not recognizing him and not following the rules\n* The debate turned into a dispute between Malema and the Speaker\n\n**Takeaways:**\n\n* The debate on the SONA was disrupted by a protest led by Julius Malema\n* Malema's protest was against the President and the Speaker, and he called for the removal of Pravin Gordhan as a minister\n* The Speaker attempted to maintain order and follow the rules, but the debate turned into a dispute between Malema and the Speaker\n* Malema accused the Speaker of not recognizing him and not following the rules\n\n**Action Items:**\n\n* **Owner:** Speaker of the National Assembly\n* **Action:** Recognize Julius Malema and other members of Parliament according to the rules\n* **Status:** Not completed\n* **Owner:** Julius Malema\n* **Action:** Refrain from disrupting the debate and follow the rules\n* **Status:** Not completed\n* **Owner:** Chief Whips\n* **Action:** Meet outside to discuss and find a solution to the dispute\n* **Status:** Not completed\n\n**Next Steps:**\nThe debate on the SONA was eventually allowed to proceed, but the dispute between Julius Malema and the Speaker remained unresolved. The Chief Whips were asked to meet outside to discuss and find a solution to the dispute.<|eot_id|>"
          },
          "metadata": {}
        }
      ]
    },
    {
      "cell_type": "code",
      "source": [],
      "metadata": {
        "id": "rJuEKi7uueEI"
      },
      "id": "rJuEKi7uueEI",
      "execution_count": null,
      "outputs": []
    }
  ],
  "metadata": {
    "kernelspec": {
      "display_name": "Python 3",
      "name": "python3"
    },
    "language_info": {
      "codemirror_mode": {
        "name": "ipython",
        "version": 3
      },
      "file_extension": ".py",
      "mimetype": "text/x-python",
      "name": "python",
      "nbconvert_exporter": "python",
      "pygments_lexer": "ipython3",
      "version": "3.11.10"
    },
    "colab": {
      "provenance": [],
      "gpuType": "T4",
      "include_colab_link": true
    },
    "accelerator": "GPU",
    "widgets": {
      "application/vnd.jupyter.widget-state+json": {
        "edfdd6ad35e541d0bbc7301c2a89de81": {
          "model_module": "@jupyter-widgets/controls",
          "model_name": "HBoxModel",
          "model_module_version": "1.5.0",
          "state": {
            "_dom_classes": [],
            "_model_module": "@jupyter-widgets/controls",
            "_model_module_version": "1.5.0",
            "_model_name": "HBoxModel",
            "_view_count": null,
            "_view_module": "@jupyter-widgets/controls",
            "_view_module_version": "1.5.0",
            "_view_name": "HBoxView",
            "box_style": "",
            "children": [
              "IPY_MODEL_af94c3a0b2df42dfafa0bec39ec3ae39",
              "IPY_MODEL_b3fbc17d24f84d33929d1188bbc367a2",
              "IPY_MODEL_2984d4355e154214bb59bc50af50f686"
            ],
            "layout": "IPY_MODEL_b4afff84d590416f949b4fc316c41916"
          }
        },
        "af94c3a0b2df42dfafa0bec39ec3ae39": {
          "model_module": "@jupyter-widgets/controls",
          "model_name": "HTMLModel",
          "model_module_version": "1.5.0",
          "state": {
            "_dom_classes": [],
            "_model_module": "@jupyter-widgets/controls",
            "_model_module_version": "1.5.0",
            "_model_name": "HTMLModel",
            "_view_count": null,
            "_view_module": "@jupyter-widgets/controls",
            "_view_module_version": "1.5.0",
            "_view_name": "HTMLView",
            "description": "",
            "description_tooltip": null,
            "layout": "IPY_MODEL_c4bd9de920aa4d8997deadf67ae1cc4b",
            "placeholder": "​",
            "style": "IPY_MODEL_3afb7315c7fa4f4c8092d6a8caf7452b",
            "value": "Loading checkpoint shards: 100%"
          }
        },
        "b3fbc17d24f84d33929d1188bbc367a2": {
          "model_module": "@jupyter-widgets/controls",
          "model_name": "FloatProgressModel",
          "model_module_version": "1.5.0",
          "state": {
            "_dom_classes": [],
            "_model_module": "@jupyter-widgets/controls",
            "_model_module_version": "1.5.0",
            "_model_name": "FloatProgressModel",
            "_view_count": null,
            "_view_module": "@jupyter-widgets/controls",
            "_view_module_version": "1.5.0",
            "_view_name": "ProgressView",
            "bar_style": "success",
            "description": "",
            "description_tooltip": null,
            "layout": "IPY_MODEL_22b63ec714474c979f19797289cbd6f8",
            "max": 4,
            "min": 0,
            "orientation": "horizontal",
            "style": "IPY_MODEL_d3e7eba0e4a7466a9d1e012a8abc5f08",
            "value": 4
          }
        },
        "2984d4355e154214bb59bc50af50f686": {
          "model_module": "@jupyter-widgets/controls",
          "model_name": "HTMLModel",
          "model_module_version": "1.5.0",
          "state": {
            "_dom_classes": [],
            "_model_module": "@jupyter-widgets/controls",
            "_model_module_version": "1.5.0",
            "_model_name": "HTMLModel",
            "_view_count": null,
            "_view_module": "@jupyter-widgets/controls",
            "_view_module_version": "1.5.0",
            "_view_name": "HTMLView",
            "description": "",
            "description_tooltip": null,
            "layout": "IPY_MODEL_d6a28cc4b4804302aadc2a2b6c1b288f",
            "placeholder": "​",
            "style": "IPY_MODEL_3f0d8ef26ff64de5a11ac0768ec6acb4",
            "value": " 4/4 [01:20&lt;00:00, 17.67s/it]"
          }
        },
        "b4afff84d590416f949b4fc316c41916": {
          "model_module": "@jupyter-widgets/base",
          "model_name": "LayoutModel",
          "model_module_version": "1.2.0",
          "state": {
            "_model_module": "@jupyter-widgets/base",
            "_model_module_version": "1.2.0",
            "_model_name": "LayoutModel",
            "_view_count": null,
            "_view_module": "@jupyter-widgets/base",
            "_view_module_version": "1.2.0",
            "_view_name": "LayoutView",
            "align_content": null,
            "align_items": null,
            "align_self": null,
            "border": null,
            "bottom": null,
            "display": null,
            "flex": null,
            "flex_flow": null,
            "grid_area": null,
            "grid_auto_columns": null,
            "grid_auto_flow": null,
            "grid_auto_rows": null,
            "grid_column": null,
            "grid_gap": null,
            "grid_row": null,
            "grid_template_areas": null,
            "grid_template_columns": null,
            "grid_template_rows": null,
            "height": null,
            "justify_content": null,
            "justify_items": null,
            "left": null,
            "margin": null,
            "max_height": null,
            "max_width": null,
            "min_height": null,
            "min_width": null,
            "object_fit": null,
            "object_position": null,
            "order": null,
            "overflow": null,
            "overflow_x": null,
            "overflow_y": null,
            "padding": null,
            "right": null,
            "top": null,
            "visibility": null,
            "width": null
          }
        },
        "c4bd9de920aa4d8997deadf67ae1cc4b": {
          "model_module": "@jupyter-widgets/base",
          "model_name": "LayoutModel",
          "model_module_version": "1.2.0",
          "state": {
            "_model_module": "@jupyter-widgets/base",
            "_model_module_version": "1.2.0",
            "_model_name": "LayoutModel",
            "_view_count": null,
            "_view_module": "@jupyter-widgets/base",
            "_view_module_version": "1.2.0",
            "_view_name": "LayoutView",
            "align_content": null,
            "align_items": null,
            "align_self": null,
            "border": null,
            "bottom": null,
            "display": null,
            "flex": null,
            "flex_flow": null,
            "grid_area": null,
            "grid_auto_columns": null,
            "grid_auto_flow": null,
            "grid_auto_rows": null,
            "grid_column": null,
            "grid_gap": null,
            "grid_row": null,
            "grid_template_areas": null,
            "grid_template_columns": null,
            "grid_template_rows": null,
            "height": null,
            "justify_content": null,
            "justify_items": null,
            "left": null,
            "margin": null,
            "max_height": null,
            "max_width": null,
            "min_height": null,
            "min_width": null,
            "object_fit": null,
            "object_position": null,
            "order": null,
            "overflow": null,
            "overflow_x": null,
            "overflow_y": null,
            "padding": null,
            "right": null,
            "top": null,
            "visibility": null,
            "width": null
          }
        },
        "3afb7315c7fa4f4c8092d6a8caf7452b": {
          "model_module": "@jupyter-widgets/controls",
          "model_name": "DescriptionStyleModel",
          "model_module_version": "1.5.0",
          "state": {
            "_model_module": "@jupyter-widgets/controls",
            "_model_module_version": "1.5.0",
            "_model_name": "DescriptionStyleModel",
            "_view_count": null,
            "_view_module": "@jupyter-widgets/base",
            "_view_module_version": "1.2.0",
            "_view_name": "StyleView",
            "description_width": ""
          }
        },
        "22b63ec714474c979f19797289cbd6f8": {
          "model_module": "@jupyter-widgets/base",
          "model_name": "LayoutModel",
          "model_module_version": "1.2.0",
          "state": {
            "_model_module": "@jupyter-widgets/base",
            "_model_module_version": "1.2.0",
            "_model_name": "LayoutModel",
            "_view_count": null,
            "_view_module": "@jupyter-widgets/base",
            "_view_module_version": "1.2.0",
            "_view_name": "LayoutView",
            "align_content": null,
            "align_items": null,
            "align_self": null,
            "border": null,
            "bottom": null,
            "display": null,
            "flex": null,
            "flex_flow": null,
            "grid_area": null,
            "grid_auto_columns": null,
            "grid_auto_flow": null,
            "grid_auto_rows": null,
            "grid_column": null,
            "grid_gap": null,
            "grid_row": null,
            "grid_template_areas": null,
            "grid_template_columns": null,
            "grid_template_rows": null,
            "height": null,
            "justify_content": null,
            "justify_items": null,
            "left": null,
            "margin": null,
            "max_height": null,
            "max_width": null,
            "min_height": null,
            "min_width": null,
            "object_fit": null,
            "object_position": null,
            "order": null,
            "overflow": null,
            "overflow_x": null,
            "overflow_y": null,
            "padding": null,
            "right": null,
            "top": null,
            "visibility": null,
            "width": null
          }
        },
        "d3e7eba0e4a7466a9d1e012a8abc5f08": {
          "model_module": "@jupyter-widgets/controls",
          "model_name": "ProgressStyleModel",
          "model_module_version": "1.5.0",
          "state": {
            "_model_module": "@jupyter-widgets/controls",
            "_model_module_version": "1.5.0",
            "_model_name": "ProgressStyleModel",
            "_view_count": null,
            "_view_module": "@jupyter-widgets/base",
            "_view_module_version": "1.2.0",
            "_view_name": "StyleView",
            "bar_color": null,
            "description_width": ""
          }
        },
        "d6a28cc4b4804302aadc2a2b6c1b288f": {
          "model_module": "@jupyter-widgets/base",
          "model_name": "LayoutModel",
          "model_module_version": "1.2.0",
          "state": {
            "_model_module": "@jupyter-widgets/base",
            "_model_module_version": "1.2.0",
            "_model_name": "LayoutModel",
            "_view_count": null,
            "_view_module": "@jupyter-widgets/base",
            "_view_module_version": "1.2.0",
            "_view_name": "LayoutView",
            "align_content": null,
            "align_items": null,
            "align_self": null,
            "border": null,
            "bottom": null,
            "display": null,
            "flex": null,
            "flex_flow": null,
            "grid_area": null,
            "grid_auto_columns": null,
            "grid_auto_flow": null,
            "grid_auto_rows": null,
            "grid_column": null,
            "grid_gap": null,
            "grid_row": null,
            "grid_template_areas": null,
            "grid_template_columns": null,
            "grid_template_rows": null,
            "height": null,
            "justify_content": null,
            "justify_items": null,
            "left": null,
            "margin": null,
            "max_height": null,
            "max_width": null,
            "min_height": null,
            "min_width": null,
            "object_fit": null,
            "object_position": null,
            "order": null,
            "overflow": null,
            "overflow_x": null,
            "overflow_y": null,
            "padding": null,
            "right": null,
            "top": null,
            "visibility": null,
            "width": null
          }
        },
        "3f0d8ef26ff64de5a11ac0768ec6acb4": {
          "model_module": "@jupyter-widgets/controls",
          "model_name": "DescriptionStyleModel",
          "model_module_version": "1.5.0",
          "state": {
            "_model_module": "@jupyter-widgets/controls",
            "_model_module_version": "1.5.0",
            "_model_name": "DescriptionStyleModel",
            "_view_count": null,
            "_view_module": "@jupyter-widgets/base",
            "_view_module_version": "1.2.0",
            "_view_name": "StyleView",
            "description_width": ""
          }
        }
      }
    }
  },
  "nbformat": 4,
  "nbformat_minor": 5
}